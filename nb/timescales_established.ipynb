{
 "cells": [
  {
   "cell_type": "markdown",
   "metadata": {},
   "source": [
    "# Semimajor axes and dispersion timescales of the established streams"
   ]
  },
  {
   "cell_type": "code",
   "execution_count": 1,
   "metadata": {},
   "outputs": [
    {
     "name": "stderr",
     "output_type": "stream",
     "text": []
    }
   ],
   "source": [
    "%matplotlib inline \n",
    "\n",
    "import matplotlib.pyplot as plt, numpy as np, pandas as pd\n",
    "from matplotlib.ticker import FormatStrFormatter\n",
    "\n",
    "plt.rc('font', family='serif')\n",
    "plt.rc('text', usetex=True)"
   ]
  },
  {
   "cell_type": "code",
   "execution_count": 2,
   "metadata": {},
   "outputs": [],
   "source": [
    "d = pd.read_csv('../data/granvik.dat', delim_whitespace=True, names=['description', 'a (AU)', 'e', 'i (deg)', \\\n",
    "                                                    'node (deg)', 'peri (deg)', 'MA (deg)', 'q (AU)', 'Q (AU)', \\\n",
    "                                                      'formation-Whipple (yr)', 'dispersion-Whipple (yr)', 'visible-Whipple (yr)', \\\n",
    "                                                      'formation-grav (yr)', 'dispersion-grav (yr)', 'visible-grav (yr)'])"
   ]
  },
  {
   "cell_type": "code",
   "execution_count": 3,
   "metadata": {},
   "outputs": [],
   "source": [
    "def tj(a, e, i):\n",
    "    return 5.2/a + 2*np.sqrt((1-e**2)*a/5.2)*np.cos(np.deg2rad(i))\n",
    "\n",
    "tj = tj(d['a (AU)'], d['e'], d['i (deg)'])"
   ]
  },
  {
   "cell_type": "code",
   "execution_count": 11,
   "metadata": {},
   "outputs": [],
   "source": [
    "mdc = pd.read_csv('../data/streamfulldata_established.csv', sep='\\t', \\\n",
    "                usecols=[3,4,7,8,9,12,13,14,15,16,17,18,22,24], \\\n",
    "                names=['code', 'name', 'slon', 'RA', 'DEC', 'Vg', 'a', 'q', 'e', 'w', 'om', 'i', 'parent', 'tech'], \\\n",
    "                dtype={'status':np.int8, 'slon':np.float64, 'RA':np.float64, 'DEC':np.float64, 'Vg':np.float64, \\\n",
    "                      'a':np.float64, 'q':np.float64})\n",
    "\n",
    "shrWidthTj = pd.read_csv('../data/established_age.dat', sep='\\t')"
   ]
  },
  {
   "cell_type": "code",
   "execution_count": 12,
   "metadata": {},
   "outputs": [],
   "source": [
    "shr = np.sort(pd.unique(mdc['code']))\n",
    "\n",
    "meana_list = []\n",
    "\n",
    "for shri in shr:\n",
    "    meana = round(pd.DataFrame.mean(mdc['a'].where(mdc['code'] == shri)), 1)\n",
    "    meana_list.append(meana)"
   ]
  },
  {
   "cell_type": "code",
   "execution_count": 13,
   "metadata": {},
   "outputs": [
    {
     "data": {
      "image/png": "[encoded data removed]",
      "text/plain": [
       "<Figure size 468x324 with 4 Axes>"
      ]
     },
     "metadata": {
      "needs_background": "light"
     },
     "output_type": "display_data"
    }
   ],
   "source": [
    "f, ax = plt.subplots(2, 2, figsize=(6.5, 4.5))\n",
    "\n",
    "ax[0][0].plot(d['a (AU)'], d['dispersion-grav (yr)'], '.', markersize=1, color='gray')\n",
    "#ax[0][0].set_xlabel('$a$ (au)')\n",
    "ax[0][0].set_ylabel('Dispersion timescale (yr)')\n",
    "ax[0][0].set_xlim([0.9, 3.5])\n",
    "ax[0][0].set_xticks(np.arange(0.5, 3.5, step=0.5))\n",
    "for i in list(range(14)):\n",
    "    if np.isnan(shrWidthTj['optical_age'][i]):\n",
    "        ax[0][0].plot([meana_list[i]], [shrWidthTj['radar_age'][i]], 'bo', alpha=0.5)\n",
    "    else:\n",
    "        ax[0][0].plot([meana_list[i], meana_list[i]], [shrWidthTj['optical_age'][i], shrWidthTj['radar_age'][i]], 'bo-', \\\n",
    "                  alpha=0.5)\n",
    "\n",
    "ax[0][0].text(2.4, 10500, '3:1J')\n",
    "ax[0][0].text(1.95, 10500, '7:2J')\n",
    "\n",
    "ax[0][1].plot(tj, d['dispersion-grav (yr)'], '.', markersize=1, color='gray', label='sim streams')\n",
    "#ax[0][1].set_xlabel(r'$T_\\mathrm{J}$')\n",
    "ax[0][1].set_xlim([1.5, 6.0])\n",
    "for i in list(range(14)):\n",
    "    if np.isnan(shrWidthTj['optical_age'][i]):\n",
    "        ax[0][1].plot([shrWidthTj['Tj'][i]], [shrWidthTj['radar_age'][i]], 'bo', alpha=0.5)\n",
    "    else:\n",
    "        ax[0][1].plot([shrWidthTj['Tj'][i], shrWidthTj['Tj'][i]], [shrWidthTj['optical_age'][i], shrWidthTj['radar_age'][i]], \\\n",
    "                  'bo-', alpha=0.5)\n",
    "\n",
    "ax[0][1].plot([], [], 'bo-', alpha=0.5, label='known streams')\n",
    "ax[0][1].legend()\n",
    "\n",
    "# ----------------------------\n",
    "\n",
    "ax[1][0].plot(d['a (AU)'], d['visible-grav (yr)'], '.', markersize=1, color='gray')\n",
    "ax[1][0].set_xlabel('$a$ (au)')\n",
    "ax[1][0].set_ylabel('Visible timescale (yr)')\n",
    "ax[1][0].set_xlim([0.9, 3.5])\n",
    "ax[1][0].set_xticks(np.arange(0.5, 3.5, step=0.5))\n",
    "for i in list(range(14)):\n",
    "    if np.isnan(shrWidthTj['optical_age'][i]):\n",
    "        ax[1][0].plot([meana_list[i]], [shrWidthTj['radar_age'][i]], 'bo', alpha=0.5)\n",
    "    else:\n",
    "        ax[1][0].plot([meana_list[i], meana_list[i]], [shrWidthTj['optical_age'][i], shrWidthTj['radar_age'][i]], 'bo-', \\\n",
    "                  alpha=0.5)\n",
    "\n",
    "\n",
    "ax[1][1].plot(tj, d['visible-grav (yr)'], '.', markersize=1, color='gray', label='sim streams')\n",
    "ax[1][1].set_xlabel(r'$T_\\mathrm{J}$')\n",
    "ax[1][1].set_xlim([1.5, 6.0])\n",
    "for i in list(range(14)):\n",
    "    if np.isnan(shrWidthTj['optical_age'][i]):\n",
    "        ax[1][1].plot([shrWidthTj['Tj'][i]], [shrWidthTj['radar_age'][i]], 'bo', alpha=0.5)\n",
    "    else:\n",
    "        ax[1][1].plot([shrWidthTj['Tj'][i], shrWidthTj['Tj'][i]], [shrWidthTj['optical_age'][i], shrWidthTj['radar_age'][i]], \\\n",
    "                  'bo-', alpha=0.5)\n",
    "        \n",
    "f.tight_layout()\n",
    "plt.savefig('time-a-tj-known.pdf')\n",
    "plt.show()"
   ]
  },
  {
   "cell_type": "code",
   "execution_count": null,
   "metadata": {},
   "outputs": [],
   "source": []
  }
 ],
 "metadata": {
  "kernelspec": {
   "display_name": "Python 3",
   "language": "python",
   "name": "python3"
  },
  "language_info": {
   "codemirror_mode": {
    "name": "ipython",
    "version": 3
   },
   "file_extension": ".py",
   "mimetype": "text/x-python",
   "name": "python",
   "nbconvert_exporter": "python",
   "pygments_lexer": "ipython3",
   "version": "3.5.5"
  }
 },
 "nbformat": 4,
 "nbformat_minor": 2
}
