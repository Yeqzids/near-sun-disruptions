{
 "cells": [
  {
   "cell_type": "markdown",
   "metadata": {},
   "source": [
    "# Timescales vs $a$ vs $T_\\mathrm{J}$"
   ]
  },
  {
   "cell_type": "code",
   "execution_count": 6,
   "metadata": {},
   "outputs": [],
   "source": [
    "import pandas as pd, numpy as np, matplotlib.pyplot as plt, matplotlib\n",
    "\n",
    "%matplotlib inline \n",
    "\n",
    "import matplotlib.pyplot as plt\n",
    "from matplotlib.ticker import FormatStrFormatter"
   ]
  },
  {
   "cell_type": "code",
   "execution_count": null,
   "metadata": {},
   "outputs": [],
   "source": [
    "plt.rc('font', family='serif')\n",
    "plt.rc('text', usetex=True)\n",
    "\n",
    "d = pd.read_csv('../data/granvik.dat', delim_whitespace=True, names=['description', 'a (AU)', 'e', 'i (deg)', \\\n",
    "                                                    'node (deg)', 'peri (deg)', 'MA (deg)', 'q (AU)', 'Q (AU)', \\\n",
    "                                                      'formation-Crifo (yr)', 'dispersion-Crifo (yr)', 'visible-Crifo (yr)', \\\n",
    "                                                      'formation-grav (yr)', 'dispersion-grav (yr)', 'visible-grav (yr)'])"
   ]
  },
  {
   "cell_type": "code",
   "execution_count": 7,
   "metadata": {},
   "outputs": [],
   "source": [
    "def tj(a, e, i):\n",
    "    return 5.2/a + 2*np.sqrt((1-e**2)*a/5.2)*np.cos(np.deg2rad(i))\n",
    "\n",
    "tj = tj(d['a (AU)'], d['e'], d['i (deg)'])"
   ]
  },
  {
   "cell_type": "code",
   "execution_count": 8,
   "metadata": {},
   "outputs": [
    {
     "ename": "NameError",
     "evalue": "name 'matplotlib' is not defined",
     "output_type": "error",
     "traceback": [
      "\u001b[0;31m---------------------------------------------------------------------------\u001b[0m",
      "\u001b[0;31mNameError\u001b[0m                                 Traceback (most recent call last)",
      "\u001b[0;32m<ipython-input-8-33015d1cfa6c>\u001b[0m in \u001b[0;36m<module>\u001b[0;34m()\u001b[0m\n\u001b[0;32m----> 1\u001b[0;31m \u001b[0mmatplotlib\u001b[0m\u001b[0;34m.\u001b[0m\u001b[0mrcParams\u001b[0m\u001b[0;34m.\u001b[0m\u001b[0mupdate\u001b[0m\u001b[0;34m(\u001b[0m\u001b[0mmatplotlib\u001b[0m\u001b[0;34m.\u001b[0m\u001b[0mrcParamsDefault\u001b[0m\u001b[0;34m)\u001b[0m\u001b[0;34m\u001b[0m\u001b[0m\n\u001b[0m\u001b[1;32m      2\u001b[0m \u001b[0mplt\u001b[0m\u001b[0;34m.\u001b[0m\u001b[0mrc\u001b[0m\u001b[0;34m(\u001b[0m\u001b[0;34m'font'\u001b[0m\u001b[0;34m,\u001b[0m \u001b[0mfamily\u001b[0m\u001b[0;34m=\u001b[0m\u001b[0;34m'serif'\u001b[0m\u001b[0;34m)\u001b[0m\u001b[0;34m\u001b[0m\u001b[0m\n\u001b[1;32m      3\u001b[0m \u001b[0mplt\u001b[0m\u001b[0;34m.\u001b[0m\u001b[0mrc\u001b[0m\u001b[0;34m(\u001b[0m\u001b[0;34m'text'\u001b[0m\u001b[0;34m,\u001b[0m \u001b[0musetex\u001b[0m\u001b[0;34m=\u001b[0m\u001b[0;32mTrue\u001b[0m\u001b[0;34m)\u001b[0m\u001b[0;34m\u001b[0m\u001b[0m\n\u001b[1;32m      4\u001b[0m \u001b[0;34m\u001b[0m\u001b[0m\n\u001b[1;32m      5\u001b[0m \u001b[0mf\u001b[0m\u001b[0;34m,\u001b[0m \u001b[0max\u001b[0m \u001b[0;34m=\u001b[0m \u001b[0mplt\u001b[0m\u001b[0;34m.\u001b[0m\u001b[0msubplots\u001b[0m\u001b[0;34m(\u001b[0m\u001b[0;36m3\u001b[0m\u001b[0;34m,\u001b[0m \u001b[0;36m2\u001b[0m\u001b[0;34m,\u001b[0m \u001b[0mfigsize\u001b[0m\u001b[0;34m=\u001b[0m\u001b[0;34m(\u001b[0m\u001b[0;36m6.5\u001b[0m\u001b[0;34m,\u001b[0m \u001b[0;36m6.5\u001b[0m\u001b[0;34m)\u001b[0m\u001b[0;34m)\u001b[0m\u001b[0;34m\u001b[0m\u001b[0m\n",
      "\u001b[0;31mNameError\u001b[0m: name 'matplotlib' is not defined"
     ]
    }
   ],
   "source": [
    "matplotlib.rcParams.update(matplotlib.rcParamsDefault)\n",
    "plt.rc('font', family='serif')\n",
    "plt.rc('text', usetex=True)\n",
    "\n",
    "f, ax = plt.subplots(3, 2, figsize=(6.5, 6.5))\n",
    "\n",
    "ax[0][0].plot(d['a (AU)'], d['formation-grav (yr)'], '.', markersize=1, color='gray')\n",
    "ax[0][0].set_ylabel('Formation timescale (yr)')\n",
    "ax[0][0].set_xlim([0.9, 3.5])\n",
    "ax[0][0].set_xticks(np.arange(0.5, 3.5, step=0.5))\n",
    "\n",
    "ax[0][1].plot(tj, d['formation-grav (yr)'], '.', markersize=1, color='gray')\n",
    "ax[0][1].set_xlim([1.5, 6.0])\n",
    "\n",
    "ax[1][0].plot(d['a (AU)'], d['dispersion-grav (yr)'], '.', markersize=1, color='gray')\n",
    "ax[1][0].set_ylabel('Dispersion timescale (yr)')\n",
    "ax[1][0].set_xlim([0.9, 3.5])\n",
    "ax[1][0].set_xticks(np.arange(0.5, 3.5, step=0.5))\n",
    "\n",
    "ax[1][1].plot(tj, d['dispersion-grav (yr)'], '.', markersize=1, color='gray')\n",
    "ax[1][1].set_xlim([1.5, 6.0])\n",
    "\n",
    "ax[2][0].plot(d['a (AU)'], d['visible-grav (yr)'], '.', markersize=1, color='gray')\n",
    "ax[2][0].set_xlabel('$a$ (au)')\n",
    "ax[2][0].set_ylabel('Visible timescale (yr)')\n",
    "ax[2][0].set_xlim([0.9, 3.5])\n",
    "ax[2][0].set_xticks(np.arange(0.5, 3.5, step=0.5))\n",
    "\n",
    "ax[2][1].plot(tj, d['visible-grav (yr)'], '.', markersize=1, color='gray')\n",
    "ax[2][1].set_xlabel(r'$T_\\mathrm{J}$')\n",
    "ax[2][1].set_xlim([1.5, 6.0])\n",
    "\n",
    "f.tight_layout()\n",
    "plt.savefig('time-a-tj.pdf')\n",
    "plt.show()"
   ]
  },
  {
   "cell_type": "code",
   "execution_count": null,
   "metadata": {},
   "outputs": [],
   "source": []
  }
 ],
 "metadata": {
  "kernelspec": {
   "display_name": "Python 3",
   "language": "python",
   "name": "python3"
  },
  "language_info": {
   "codemirror_mode": {
    "name": "ipython",
    "version": 3
   },
   "file_extension": ".py",
   "mimetype": "text/x-python",
   "name": "python",
   "nbconvert_exporter": "python",
   "pygments_lexer": "ipython3",
   "version": "3.5.5"
  }
 },
 "nbformat": 4,
 "nbformat_minor": 2
}
