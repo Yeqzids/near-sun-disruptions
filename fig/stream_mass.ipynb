{
 "cells": [
  {
   "cell_type": "markdown",
   "metadata": {},
   "source": [
    "# $\\S$ 2.1: Meteoroid stream mass (Hughes & McBride 1989)"
   ]
  },
  {
   "cell_type": "code",
   "execution_count": 1,
   "metadata": {},
   "outputs": [],
   "source": [
    "import numpy as np, pint\n",
    "ureg = pint.UnitRegistry()"
   ]
  },
  {
   "cell_type": "markdown",
   "metadata": {},
   "source": [
    "Constants and semi-constants"
   ]
  },
  {
   "cell_type": "code",
   "execution_count": 2,
   "metadata": {},
   "outputs": [],
   "source": [
    "f = 10\n",
    "ve = 29700 * ureg.m / ureg.s\n",
    "sin_epsilon = 1\n",
    "vhvg = 1"
   ]
  },
  {
   "cell_type": "markdown",
   "metadata": {},
   "source": [
    "Figure out $I$, the mass influx, from number flux. We will use the radar meteoroid background flux, $10^{-3}~\\mathrm{km^{-2} hr^{-1}}$, for meteoroid mass of $10^{-7}$ kg."
   ]
  },
  {
   "cell_type": "code",
   "execution_count": 3,
   "metadata": {},
   "outputs": [],
   "source": [
    "flux = 1e-3 / ureg.km**2 / ureg.hour\n",
    "metmass = 1e-7 * ureg.kg\n",
    "\n",
    "flux = flux.to(1 / ureg.m**2 / ureg.s)\n",
    "bigi = metmass * flux"
   ]
  },
  {
   "cell_type": "code",
   "execution_count": 4,
   "metadata": {},
   "outputs": [
    {
     "data": {
      "text/html": [
       "2.7777777777777776e-20 kilogram/(meter<sup>2</sup> second)"
      ],
      "text/latex": [
       "$2.7777777777777776e-20\\ \\frac{\\mathrm{kilogram}}{\\left(\\mathrm{meter}^{2} \\cdot \\mathrm{second}\\right)}$"
      ],
      "text/plain": [
       "<Quantity(2.7777777777777776e-20, 'kilogram / meter ** 2 / second')>"
      ]
     },
     "execution_count": 4,
     "metadata": {},
     "output_type": "execute_result"
    }
   ],
   "source": [
    "bigi"
   ]
  },
  {
   "cell_type": "code",
   "execution_count": null,
   "metadata": {},
   "outputs": [],
   "source": []
  }
 ],
 "metadata": {
  "kernelspec": {
   "display_name": "Python 3",
   "language": "python",
   "name": "python3"
  },
  "language_info": {
   "codemirror_mode": {
    "name": "ipython",
    "version": 3
   },
   "file_extension": ".py",
   "mimetype": "text/x-python",
   "name": "python",
   "nbconvert_exporter": "python",
   "pygments_lexer": "ipython3",
   "version": "3.5.5"
  }
 },
 "nbformat": 4,
 "nbformat_minor": 2
}
